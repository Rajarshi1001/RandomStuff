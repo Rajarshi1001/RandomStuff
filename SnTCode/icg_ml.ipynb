{
 "cells": [
  {
   "cell_type": "code",
   "execution_count": null,
   "metadata": {},
   "outputs": [],
   "source": [
    "import torch \n",
    "import numpy as np\n",
    "import pandas as pd\n",
    "import torch.nn.functional as F\n",
    "import torch.nn as nn\n",
    "import matplotlib.pyplot as plt\n",
    "import os\n",
    "from torch.utils.data import Dataset, DataLoader\n",
    "from torchvision import transforms\n",
    "from PIL import Image\n",
    "from bs4 import BeautifulSoup\n",
    "import requests \n",
    "import regex as re\n",
    "import csv\n",
    "from sklearn.metrics import mean_squared_error\n",
    "from torch.nn.utils import clip_grad_norm_\n",
    "import torchvision.models as models\n",
    "from torch.optim import Adam"
   ]
  },
  {
   "cell_type": "code",
   "execution_count": null,
   "metadata": {
    "vscode": {
     "languageId": "julia"
    }
   },
   "outputs": [],
   "source": [
    "url = \"https://height-weight-chart.com/\"\n",
    "resp = requests.get(url)\n",
    "soup = BeautifulSoup(resp.content, \"html.parser\")\n",
    "# print(soup.prettify())\n",
    "pattern = \"\\d{3}-\\d{3}.html\"\n",
    "res = soup.find_all('a', {\"href\": re.compile(pattern)})\n",
    "print(res[0].img[\"src\"])\n",
    "results = [\"https://height-weight-chart.com/\" + res[i].img[\"src\"] for i in range(len(res))]\n",
    "weights = [int(str(res[i].img[\"title\"].split(\",\"))[9:12])*0.4532 for i in range(len(res))]"
   ]
  },
  {
   "cell_type": "code",
   "execution_count": null,
   "metadata": {
    "vscode": {
     "languageId": "julia"
    }
   },
   "outputs": [],
   "source": [
    "import os\n",
    "folder_name = \"images\"\n",
    "if not os.path.exists(folder_name):\n",
    "    os.makedirs(folder_name)\n",
    "\n",
    "for idx, img_url in enumerate(results):\n",
    "    img_resp = requests.get(img_url, stream=True)\n",
    "    img_resp.raise_for_status()\n",
    "    img_path = os.path.join(folder_name, f'image_{idx}.jpg')\n",
    "    with open(img_path, 'wb') as img_file:\n",
    "        for chunk in img_resp.iter_content(chunk_size=8192):\n",
    "            img_file.write(chunk)"
   ]
  },
  {
   "cell_type": "code",
   "execution_count": null,
   "metadata": {
    "vscode": {
     "languageId": "julia"
    }
   },
   "outputs": [],
   "source": [
    "images = os.listdir(\"images\")\n",
    "print(len(images))\n",
    "weights = weights\n",
    "data = pd.DataFrame({\"image\": images, \"weight\" : weights})\n",
    "data.to_csv(\"data.csv\")"
   ]
  },
  {
   "cell_type": "code",
   "execution_count": null,
   "metadata": {
    "vscode": {
     "languageId": "julia"
    }
   },
   "outputs": [],
   "source": [
    "d = pd.read_csv(\"data.csv\")\n",
    "d.head(10)"
   ]
  },
  {
   "cell_type": "code",
   "execution_count": null,
   "metadata": {
    "vscode": {
     "languageId": "julia"
    }
   },
   "outputs": [],
   "source": [
    "class WeightDataset(Dataset):\n",
    "    \n",
    "    def __init__(self, csv_file, root_dir, transform=None):\n",
    "        self.data_frame = pd.read_csv(csv_file)\n",
    "        self.root_dir = root_dir\n",
    "        self.transform = transform\n",
    "\n",
    "    def __len__(self):\n",
    "        return len(self.data_frame)\n",
    "\n",
    "    def __getitem__(self, idx):\n",
    "        img_name = os.path.join(root_dir, self.data_frame.iloc[idx, 1])\n",
    "        image = Image.open(img_name)\n",
    "        label = self.data_frame.iloc[idx, 2]\n",
    "\n",
    "        if self.transform:\n",
    "            image = self.transform(image)\n",
    "\n",
    "        return image, float(label)\n",
    "\n",
    "# Define paths and other parameters\n",
    "csv_file = 'data.csv'\n",
    "root_dir = 'images'\n",
    "batch_size = 128\n",
    "\n",
    "# Define data transformations\n",
    "data_transform = transforms.Compose([\n",
    "    transforms.Resize((224, 224)),\n",
    "    transforms.ToTensor(),\n",
    "    transforms.RandomGrayscale(p=0.2),\n",
    "    transforms.RandomHorizontalFlip(p=0.2),\n",
    "    transforms.RandomVerticalFlip(p=0.2),\n",
    "#     transforms.Normalize(mean=[0.485, 0.456, 0.406], std=[0.229, 0.224, 0.225]),\n",
    "])"
   ]
  },
  {
   "cell_type": "code",
   "execution_count": null,
   "metadata": {
    "vscode": {
     "languageId": "julia"
    }
   },
   "outputs": [],
   "source": [
    "dataset = WeightDataset(csv_file=csv_file, root_dir=root_dir, transform=data_transform)\n",
    "dataset[10]"
   ]
  },
  {
   "cell_type": "code",
   "execution_count": null,
   "metadata": {
    "vscode": {
     "languageId": "julia"
    }
   },
   "outputs": [],
   "source": [
    "class SimpleCNN(nn.Module):\n",
    "    def __init__(self):\n",
    "        super(SimpleCNN, self).__init__()\n",
    "\n",
    "        self.conv_layers = nn.Sequential(\n",
    "            nn.Conv2d(in_channels=3, out_channels=16, kernel_size=3, stride=1, padding=1),  # 224x224\n",
    "            nn.GELU(),\n",
    "            nn.MaxPool2d(kernel_size=2, stride=2),  # 112x112\n",
    "            nn.Conv2d(in_channels=16, out_channels=32, kernel_size=3, stride=1, padding=1), \n",
    "            nn.GELU(),\n",
    "            nn.MaxPool2d(kernel_size=2, stride=2),  # 56x56\n",
    "            nn.Conv2d(in_channels=32, out_channels=64, kernel_size=3, stride=1, padding=1),\n",
    "            nn.GELU(),\n",
    "            nn.MaxPool2d(kernel_size=2, stride=2)   # 28x28\n",
    "        )\n",
    "        self.fc_layers = nn.Sequential(\n",
    "            nn.Linear(64 * 28 * 28, 512),  \n",
    "            nn.ReLU(),\n",
    "            nn.Linear(512, 1),\n",
    "        )\n",
    "\n",
    "    def forward(self, x):\n",
    "        x = self.conv_layers(x)\n",
    "        x = x.view(x.size(0), -1) \n",
    "        x = self.fc_layers(x)\n",
    "        return x.view(-1)  "
   ]
  },
  {
   "cell_type": "code",
   "execution_count": null,
   "metadata": {
    "vscode": {
     "languageId": "julia"
    }
   },
   "outputs": [],
   "source": [
    "LEARNING_RATE = 0.009\n",
    "WEIGHT_DECAY = 0.008\n",
    "BATCH_SIZE = 64\n",
    "EPOCHS = 1000\n",
    "device = torch.device(\"cuda\" if torch.cuda.is_available() else \"cpu\")\n",
    "\n",
    "# class WeightModel(nn.Module):\n",
    "#     def __init__(self, num_classes):\n",
    "#         super(WeightModel, self).__init__()\n",
    "#         self.resnet50 = models.resnet50(pretrained=True)\n",
    "#         self.resnet50.fc = nn.Linear(self.resnet50.fc.in_features, num_classes)\n",
    "\n",
    "#     def forward(self, x):\n",
    "#         return self.resnet50(x)\n",
    "\n",
    "trainloader = DataLoader(dataset, batch_size=BATCH_SIZE, shuffle=True)\n",
    "# model = WeightModel(NUM_CLASSES).to(device)  \n",
    "model = SimpleCNN().to(device)\n",
    "optimizer = Adam(model.parameters(), lr=LEARNING_RATE)\n",
    "criterion = nn.MSELoss()\n",
    "\n",
    "\n",
    "for epoch in range(EPOCHS):\n",
    "    model.train()\n",
    "    running_loss = 0.0\n",
    "    for batch_idx, (images, targets) in enumerate(trainloader):\n",
    "        images = images.to(device).float()\n",
    "        targets = targets.to(device).float()\n",
    "        output = model(images)\n",
    "        loss = criterion(output, targets)\n",
    "        optimizer.zero_grad()\n",
    "        loss.backward()\n",
    "        clip_grad_norm_(model.parameters(), max_norm=1.0)\n",
    "        optimizer.step()\n",
    "        running_loss += loss.item()\n",
    "\n",
    "    avg_loss = running_loss / len(trainloader)\n",
    "    print(f\"Epoch [{epoch+1}/{EPOCHS}], Avg Loss: {avg_loss:.4f}\")\n",
    "\n",
    "torch.save(model.state_dict(), \"model.pth\")"
   ]
  },
  {
   "cell_type": "code",
   "execution_count": null,
   "metadata": {
    "vscode": {
     "languageId": "julia"
    }
   },
   "outputs": [],
   "source": [
    "DATA_DIR = \"images\"\n",
    "train_images = os.listdir(DATA_DIR)\n",
    "print(len(train_images))"
   ]
  },
  {
   "cell_type": "code",
   "execution_count": null,
   "metadata": {
    "vscode": {
     "languageId": "julia"
    }
   },
   "outputs": [],
   "source": [
    "model_path = 'model.pth'\n",
    "model = SimpleCNN()  # Replace with your model class\n",
    "model.load_state_dict(torch.load(model_path))\n",
    "model.eval()\n",
    "pred_weights = []\n",
    "\n",
    "for idx, img in enumerate(train_images):\n",
    "    img_path = os.path.join(DATA_DIR, img)\n",
    "    image = Image.open(img_path)\n",
    "    image = data_transform(image)  \n",
    "    image = image.unsqueeze(0)  \n",
    "\n",
    "    with torch.no_grad():\n",
    "        output = model(image)\n",
    "#         print(output)\n",
    "        pred_weights.append(output.cpu().detach().numpy().astype(\"float\")[0])"
   ]
  },
  {
   "cell_type": "code",
   "execution_count": null,
   "metadata": {
    "vscode": {
     "languageId": "julia"
    }
   },
   "outputs": [],
   "source": [
    "pred_weights"
   ]
  },
  {
   "cell_type": "code",
   "execution_count": null,
   "metadata": {
    "vscode": {
     "languageId": "julia"
    }
   },
   "outputs": [],
   "source": [
    "pred_weights = np.array(pred_weights)\n",
    "weights = np.array(weights)\n",
    "rmse_per = np.sqrt(mean_squared_error(pred_weights, weights))/(np.max(weights) - np.min(weights))\n",
    "print(rmse_per*100)"
   ]
  },
  {
   "cell_type": "code",
   "execution_count": null,
   "metadata": {
    "vscode": {
     "languageId": "julia"
    }
   },
   "outputs": [],
   "source": [
    "# Inference\n",
    "\n",
    "DATA_DIR = \"Dataset\"\n",
    "test_images = os.listdir(DATA_DIR)\n",
    "print(len(test_images))\n",
    "\n",
    "model_path = 'model.pth'\n",
    "model = SimpleCNN()\n",
    "model.load_state_dict(torch.load(model_path))\n",
    "model.eval()\n",
    "pred_weights = []\n",
    "\n",
    "for idx, img in enumerate(test_images):\n",
    "    img_path = os.path.join(DATA_DIR, img)\n",
    "    image = Image.open(img_path)\n",
    "    image = data_transform(image)  # No need to unsqueeze(1) here\n",
    "    image = image.unsqueeze(0)  # Add batch dimension\n",
    "\n",
    "    with torch.no_grad():\n",
    "        output = model(image)\n",
    "#         print(output)\n",
    "        pred_weights.append(output.cpu().detach().numpy().astype(\"float\")[0])\n",
    "        with open(\"sample_submission.csv\", \"a\") as file:\n",
    "            writer = csv.writer(file)\n",
    "            writer.writerow([img, np.round(output.cpu().detach().numpy().astype(\"float\")[0])])"
   ]
  }
 ],
 "metadata": {
  "language_info": {
   "name": "python"
  },
  "orig_nbformat": 4
 },
 "nbformat": 4,
 "nbformat_minor": 2
}
